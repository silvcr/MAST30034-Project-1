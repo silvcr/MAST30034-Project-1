{
 "cells": [
  {
   "cell_type": "code",
   "execution_count": 4,
   "id": "8390108d",
   "metadata": {
    "scrolled": true
   },
   "outputs": [
    {
     "name": "stderr",
     "output_type": "stream",
     "text": [
      "21/08/14 16:33:24 WARN Utils: Your hostname, LAPTOP-D5HGLKLK resolves to a loopback address: 127.0.1.1; using 172.18.37.131 instead (on interface eth0)\n",
      "21/08/14 16:33:24 WARN Utils: Set SPARK_LOCAL_IP if you need to bind to another address\n",
      "21/08/14 16:33:26 WARN NativeCodeLoader: Unable to load native-hadoop library for your platform... using builtin-java classes where applicable\n",
      "Using Spark's default log4j profile: org/apache/spark/log4j-defaults.properties\n",
      "Setting default log level to \"WARN\".\n",
      "To adjust logging level use sc.setLogLevel(newLevel). For SparkR, use setLogLevel(newLevel).\n"
     ]
    }
   ],
   "source": [
    "# Importing and starting a spark session\n",
    "from pyspark.sql import SparkSession\n",
    "from pyspark import SparkContext\n",
    "#Supress warnings\n",
    "spark = SparkSession.builder.getOrCreate()\n",
    "sc = SparkContext.getOrCreate()\n",
    "sc.setLogLevel('WARN')\n",
    "\n",
    "spark.conf.set('spark.sql.execution.arrow.pyspark.enabled', True)\n",
    "#Make the spark files present well\n",
    "spark.conf.set('spark.sql.repl.eagerEval.enabled', True)"
   ]
  },
  {
   "cell_type": "code",
   "execution_count": 5,
   "id": "eccc24fe",
   "metadata": {},
   "outputs": [
    {
     "name": "stderr",
     "output_type": "stream",
     "text": [
      "                                                                                \r"
     ]
    }
   ],
   "source": [
    "taxi_2018 = spark.read.parquet('../preprocessed_data/taxi_2018.parquet')\n",
    "taxi_2019 = spark.read.parquet('../preprocessed_data/taxi_2019.parquet')"
   ]
  },
  {
   "cell_type": "code",
   "execution_count": 6,
   "id": "fdd198a5",
   "metadata": {},
   "outputs": [
    {
     "name": "stderr",
     "output_type": "stream",
     "text": [
      "                                                                                \r"
     ]
    },
    {
     "data": {
      "text/html": [
       "<table border='1'>\n",
       "<tr><th>payment_type</th><th>avg(tip_amount)</th></tr>\n",
       "<tr><td>1</td><td>2.7005132659386417</td></tr>\n",
       "<tr><td>3</td><td>1.488654511390633...</td></tr>\n",
       "<tr><td>5</td><td>4.016666666666667</td></tr>\n",
       "<tr><td>4</td><td>-0.00600901659131...</td></tr>\n",
       "<tr><td>2</td><td>6.643742587460488E-5</td></tr>\n",
       "</table>\n"
      ],
      "text/plain": [
       "+------------+--------------------+\n",
       "|payment_type|     avg(tip_amount)|\n",
       "+------------+--------------------+\n",
       "|           1|  2.7005132659386417|\n",
       "|           3|1.488654511390633...|\n",
       "|           5|   4.016666666666667|\n",
       "|           4|-0.00600901659131...|\n",
       "|           2|6.643742587460488E-5|\n",
       "+------------+--------------------+"
      ]
     },
     "execution_count": 6,
     "metadata": {},
     "output_type": "execute_result"
    }
   ],
   "source": [
    "from pyspark.sql.functions import *\n",
    "taxi_2018.groupBy(\"payment_type\").agg(mean('tip_amount'))"
   ]
  },
  {
   "cell_type": "markdown",
   "id": "fcca80a0",
   "metadata": {},
   "source": [
    "We are only interested in the amount of tip received by the driver for any trip. As tips can only be received via credit card (id = 1), all other ids are not of interest to us and thus are removed."
   ]
  },
  {
   "cell_type": "code",
   "execution_count": 7,
   "id": "078098a7",
   "metadata": {
    "scrolled": true
   },
   "outputs": [
    {
     "name": "stderr",
     "output_type": "stream",
     "text": [
      "                                                                                \r"
     ]
    },
    {
     "data": {
      "text/html": [
       "<table border='1'>\n",
       "<tr><th>VendorID</th><th>tpep_pickup_datetime</th><th>tpep_dropoff_datetime</th><th>passenger_count</th><th>trip_distance</th><th>RatecodeID</th><th>store_and_fwd_flag</th><th>PULocationID</th><th>DOLocationID</th><th>payment_type</th><th>fare_amount</th><th>extra</th><th>mta_tax</th><th>tip_amount</th><th>tolls_amount</th><th>improvement_surcharge</th><th>total_amount</th></tr>\n",
       "<tr><td>1</td><td>2018-04-01 00:20:09</td><td>2018-04-01 00:24:44</td><td>0</td><td>0.8</td><td>1</td><td>N</td><td>50</td><td>48</td><td>1</td><td>5.0</td><td>0.5</td><td>0.5</td><td>1.0</td><td>0.0</td><td>0.3</td><td>7.3</td></tr>\n",
       "<tr><td>1</td><td>2018-04-01 00:43:37</td><td>2018-04-01 00:50:21</td><td>0</td><td>0.9</td><td>1</td><td>N</td><td>113</td><td>79</td><td>1</td><td>6.0</td><td>0.5</td><td>0.5</td><td>1.46</td><td>0.0</td><td>0.3</td><td>8.76</td></tr>\n",
       "<tr><td>1</td><td>2018-04-01 00:46:34</td><td>2018-04-01 00:52:51</td><td>0</td><td>0.9</td><td>1</td><td>N</td><td>144</td><td>114</td><td>1</td><td>6.0</td><td>0.5</td><td>0.5</td><td>0.0</td><td>0.0</td><td>0.3</td><td>7.3</td></tr>\n",
       "<tr><td>1</td><td>2018-04-01 00:05:26</td><td>2018-04-01 00:43:16</td><td>0</td><td>18.0</td><td>2</td><td>N</td><td>132</td><td>143</td><td>1</td><td>52.0</td><td>0.0</td><td>0.5</td><td>9.2</td><td>0.0</td><td>0.3</td><td>62.0</td></tr>\n",
       "<tr><td>1</td><td>2018-04-01 00:54:24</td><td>2018-04-01 01:01:03</td><td>0</td><td>1.4</td><td>1</td><td>N</td><td>163</td><td>164</td><td>2</td><td>7.0</td><td>0.5</td><td>0.5</td><td>0.0</td><td>0.0</td><td>0.3</td><td>8.3</td></tr>\n",
       "</table>\n"
      ],
      "text/plain": [
       "+--------+--------------------+---------------------+---------------+-------------+----------+------------------+------------+------------+------------+-----------+-----+-------+----------+------------+---------------------+------------+\n",
       "|VendorID|tpep_pickup_datetime|tpep_dropoff_datetime|passenger_count|trip_distance|RatecodeID|store_and_fwd_flag|PULocationID|DOLocationID|payment_type|fare_amount|extra|mta_tax|tip_amount|tolls_amount|improvement_surcharge|total_amount|\n",
       "+--------+--------------------+---------------------+---------------+-------------+----------+------------------+------------+------------+------------+-----------+-----+-------+----------+------------+---------------------+------------+\n",
       "|       1| 2018-04-01 00:20:09|  2018-04-01 00:24:44|              0|          0.8|         1|                 N|          50|          48|           1|        5.0|  0.5|    0.5|       1.0|         0.0|                  0.3|         7.3|\n",
       "|       1| 2018-04-01 00:43:37|  2018-04-01 00:50:21|              0|          0.9|         1|                 N|         113|          79|           1|        6.0|  0.5|    0.5|      1.46|         0.0|                  0.3|        8.76|\n",
       "|       1| 2018-04-01 00:46:34|  2018-04-01 00:52:51|              0|          0.9|         1|                 N|         144|         114|           1|        6.0|  0.5|    0.5|       0.0|         0.0|                  0.3|         7.3|\n",
       "|       1| 2018-04-01 00:05:26|  2018-04-01 00:43:16|              0|         18.0|         2|                 N|         132|         143|           1|       52.0|  0.0|    0.5|       9.2|         0.0|                  0.3|        62.0|\n",
       "|       1| 2018-04-01 00:54:24|  2018-04-01 01:01:03|              0|          1.4|         1|                 N|         163|         164|           2|        7.0|  0.5|    0.5|       0.0|         0.0|                  0.3|         8.3|\n",
       "+--------+--------------------+---------------------+---------------+-------------+----------+------------------+------------+------------+------------+-----------+-----+-------+----------+------------+---------------------+------------+"
      ]
     },
     "execution_count": 7,
     "metadata": {},
     "output_type": "execute_result"
    }
   ],
   "source": [
    "taxi_2018.filter(taxi_2018.passenger_count == 0).limit(5)"
   ]
  },
  {
   "cell_type": "raw",
   "id": "32218abf",
   "metadata": {},
   "source": [
    "Trips with 0 passengers were preserved. Even though they seem illogical, it is possible that this value was simply misentered, or that the taxi trip was used to transport items. They also do not violate the data dictionary"
   ]
  },
  {
   "cell_type": "code",
   "execution_count": 8,
   "id": "b8000863",
   "metadata": {},
   "outputs": [
    {
     "name": "stderr",
     "output_type": "stream",
     "text": [
      "                                                                                \r"
     ]
    },
    {
     "data": {
      "text/html": [
       "<table border='1'>\n",
       "<tr><th>passenger_count</th><th>count</th></tr>\n",
       "<tr><td>192</td><td>1</td></tr>\n",
       "<tr><td>1</td><td>73072141</td></tr>\n",
       "<tr><td>6</td><td>2783068</td></tr>\n",
       "<tr><td>3</td><td>4295075</td></tr>\n",
       "<tr><td>96</td><td>1</td></tr>\n",
       "<tr><td>5</td><td>4602861</td></tr>\n",
       "<tr><td>9</td><td>275</td></tr>\n",
       "<tr><td>4</td><td>2029082</td></tr>\n",
       "<tr><td>8</td><td>313</td></tr>\n",
       "<tr><td>7</td><td>390</td></tr>\n",
       "<tr><td>2</td><td>15087976</td></tr>\n",
       "<tr><td>0</td><td>933067</td></tr>\n",
       "</table>\n"
      ],
      "text/plain": [
       "+---------------+--------+\n",
       "|passenger_count|   count|\n",
       "+---------------+--------+\n",
       "|            192|       1|\n",
       "|              1|73072141|\n",
       "|              6| 2783068|\n",
       "|              3| 4295075|\n",
       "|             96|       1|\n",
       "|              5| 4602861|\n",
       "|              9|     275|\n",
       "|              4| 2029082|\n",
       "|              8|     313|\n",
       "|              7|     390|\n",
       "|              2|15087976|\n",
       "|              0|  933067|\n",
       "+---------------+--------+"
      ]
     },
     "execution_count": 8,
     "metadata": {},
     "output_type": "execute_result"
    }
   ],
   "source": [
    "taxi_2018.groupBy('passenger_count').count()"
   ]
  },
  {
   "cell_type": "markdown",
   "id": "ca542488",
   "metadata": {},
   "source": [
    "On the other hand, we will remove trips > 10 passengers, as they are likely errornerous and may have a negative effect on skewing our data."
   ]
  },
  {
   "cell_type": "code",
   "execution_count": 9,
   "id": "f95cb1ba",
   "metadata": {},
   "outputs": [
    {
     "name": "stderr",
     "output_type": "stream",
     "text": [
      "                                                                                \r"
     ]
    },
    {
     "data": {
      "text/html": [
       "<table border='1'>\n",
       "<tr><th>RatecodeID</th><th>count</th></tr>\n",
       "<tr><td>1</td><td>99727994</td></tr>\n",
       "<tr><td>6</td><td>868</td></tr>\n",
       "<tr><td>3</td><td>209560</td></tr>\n",
       "<tr><td>5</td><td>413027</td></tr>\n",
       "<tr><td>4</td><td>64830</td></tr>\n",
       "<tr><td>2</td><td>2382882</td></tr>\n",
       "<tr><td>99</td><td>5089</td></tr>\n",
       "</table>\n"
      ],
      "text/plain": [
       "+----------+--------+\n",
       "|RatecodeID|   count|\n",
       "+----------+--------+\n",
       "|         1|99727994|\n",
       "|         6|     868|\n",
       "|         3|  209560|\n",
       "|         5|  413027|\n",
       "|         4|   64830|\n",
       "|         2| 2382882|\n",
       "|        99|    5089|\n",
       "+----------+--------+"
      ]
     },
     "execution_count": 9,
     "metadata": {},
     "output_type": "execute_result"
    }
   ],
   "source": [
    "taxi_2018.groupBy('RatecodeID').count()"
   ]
  },
  {
   "cell_type": "markdown",
   "id": "19c8cc37",
   "metadata": {},
   "source": [
    "Given its small scale, we can remove the trips with RatecodeID of 99 as they do not meet data integrity requirements. We will also remove all taxi entries with RatecodeID 3 (Newark Airport) and Ratecode 4 (Nassau/Westchester), as these do not have the taxi zone data available, and are also charged a different way (JFK trips are also charged differently, but occur frequently and is still contained in New York City.) \n",
    "\n",
    "https://www1.nyc.gov/site/tlc/passengers/taxi-fare.page"
   ]
  },
  {
   "cell_type": "markdown",
   "id": "8a3db415",
   "metadata": {},
   "source": [
    "Next, we make sure the LocationIDs are valid (the NYC Taxi Zone lookup has values 1->263)"
   ]
  },
  {
   "cell_type": "code",
   "execution_count": 10,
   "id": "62e6e015",
   "metadata": {},
   "outputs": [
    {
     "name": "stderr",
     "output_type": "stream",
     "text": [
      "                                                                                \r"
     ]
    }
   ],
   "source": [
    "LocID_analysis = taxi_2018.groupBy('PULocationID').count().toPandas()"
   ]
  },
  {
   "cell_type": "code",
   "execution_count": 11,
   "id": "1fb44026",
   "metadata": {
    "scrolled": true
   },
   "outputs": [
    {
     "name": "stdout",
     "output_type": "stream",
     "text": [
      "[264, 265]\n"
     ]
    }
   ],
   "source": [
    "#creating an index of Location IDs from the taxi zone lookup table to find conflicting values\n",
    "location_index = [row['OBJECTID'] for index, row in taxi_zones.iterrows()]\n",
    "location_test = []\n",
    "for index, row in LocID_analysis.iterrows():\n",
    "    if row['PULocationID'] not in location_index: \n",
    "        location_test.append(row['PULocationID'])\n",
    "    else:\n",
    "        location_index.remove(row['PULocationID'])\n",
    "print(location_test)"
   ]
  },
  {
   "cell_type": "code",
   "execution_count": 12,
   "id": "fff3c2b9",
   "metadata": {
    "scrolled": false
   },
   "outputs": [
    {
     "name": "stdout",
     "output_type": "stream",
     "text": [
      "     PULocationID    count\n",
      "154           264  1613394\n",
      "     PULocationID  count\n",
      "196           265  49636\n"
     ]
    }
   ],
   "source": [
    "print(LocID_analysis.loc[LocID_analysis['PULocationID'] == 264])\n",
    "print(LocID_analysis.loc[LocID_analysis['PULocationID'] == 265])"
   ]
  },
  {
   "cell_type": "markdown",
   "id": "3e31b4c8",
   "metadata": {},
   "source": [
    "The 264 and 265 LocationIDs are in the lookup table under borough Unknown but not in the shapefile of the zones.\n",
    "This, along with their large count (especially in ID 264), suggests that we are looking at the trips which are outside \n",
    "of the city of New York. We will remove this data, as it not only doesn't strictly follow data dictionary guidelines, but also is outside the the scope of the investigation (New York City)"
   ]
  },
  {
   "cell_type": "markdown",
   "id": "05661dbc",
   "metadata": {},
   "source": [
    "All non-2018 years will also be removed without further investigation (observed from manual viewing of data)"
   ]
  },
  {
   "cell_type": "markdown",
   "id": "34bc78a6",
   "metadata": {},
   "source": [
    "Negative amounts in any charge will be removed as well."
   ]
  },
  {
   "cell_type": "markdown",
   "id": "ffd66217",
   "metadata": {},
   "source": [
    "We will also remove all columns relating to fare that is not tip amount - things like fare amount or total amount are already correlated by definition and are not interesting to us. The payment type will also be removed as we have already filtered it out."
   ]
  }
 ],
 "metadata": {
  "kernelspec": {
   "display_name": "Python 3 (ipykernel)",
   "language": "python",
   "name": "python3"
  },
  "language_info": {
   "codemirror_mode": {
    "name": "ipython",
    "version": 3
   },
   "file_extension": ".py",
   "mimetype": "text/x-python",
   "name": "python",
   "nbconvert_exporter": "python",
   "pygments_lexer": "ipython3",
   "version": "3.8.10"
  }
 },
 "nbformat": 4,
 "nbformat_minor": 5
}
