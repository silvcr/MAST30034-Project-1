{
 "cells": [
  {
   "cell_type": "code",
   "execution_count": 1,
   "id": "f5bbd6ef",
   "metadata": {},
   "outputs": [
    {
     "name": "stdout",
     "output_type": "stream",
     "text": [
      "Done downloading yellow_tripdata_2018-01.csv to ../raw_data with size 0.72GB\n",
      "Done downloading yellow_tripdata_2018-02.csv to ../raw_data with size 0.70GB\n",
      "Done downloading yellow_tripdata_2018-03.csv to ../raw_data with size 0.77GB\n",
      "Done downloading yellow_tripdata_2018-04.csv to ../raw_data with size 0.76GB\n",
      "Done downloading yellow_tripdata_2018-05.csv to ../raw_data with size 0.76GB\n",
      "Done downloading yellow_tripdata_2018-06.csv to ../raw_data with size 0.72GB\n",
      "Done downloading yellow_tripdata_2018-07.csv to ../raw_data with size 0.64GB\n",
      "Done downloading yellow_tripdata_2018-08.csv to ../raw_data with size 0.64GB\n",
      "Done downloading yellow_tripdata_2018-09.csv to ../raw_data with size 0.66GB\n",
      "Done downloading yellow_tripdata_2018-10.csv to ../raw_data with size 0.73GB\n",
      "Done downloading yellow_tripdata_2018-11.csv to ../raw_data with size 0.67GB\n",
      "Done downloading yellow_tripdata_2018-12.csv to ../raw_data with size 0.67GB\n"
     ]
    }
   ],
   "source": [
    "# referenced from Akira's git \n",
    "from os.path import getsize\n",
    "from urllib.request import urlretrieve\n",
    "\n",
    "output_dir = \"../raw_data\"\n",
    "fname_template = \"yellow_tripdata_2018\"\n",
    "\n",
    "for m in range(1, 13):\n",
    "    month = str(m).zfill(2)\n",
    "    out = f'{fname_template}-{month}.csv'\n",
    "    url = f\"https://s3.amazonaws.com/nyc-tlc/trip+data/{out}\"\n",
    "    urlretrieve(url, f\"{output_dir}/{out}\")\n",
    "\n",
    "    print(f\"Done downloading {out} to {output_dir} with size {getsize(f'{output_dir}/{out}') / 1073741824:.2f}GB\")"
   ]
  },
  {
   "cell_type": "code",
   "execution_count": null,
   "id": "3c45ae7e",
   "metadata": {},
   "outputs": [],
   "source": [
    "import geopandas as gpd\n",
    "\n",
    "taxi_zones_shp = gpd.read_file('taxi_zones.shp')\n",
    "\n",
    "taxi_zones_shp.to_file('taxi_zones.geojson', drivers = 'GeoJSON')\n",
    "\n",
    "taxi_zones_df = gpd.read_file('taxi_zones.geojson')\n",
    "taxi_zones_df.head()"
   ]
  },
  {
   "cell_type": "code",
   "execution_count": null,
   "id": "5ab46158",
   "metadata": {},
   "outputs": [],
   "source": []
  }
 ],
 "metadata": {
  "kernelspec": {
   "display_name": "Python 3 (ipykernel)",
   "language": "python",
   "name": "python3"
  },
  "language_info": {
   "codemirror_mode": {
    "name": "ipython",
    "version": 3
   },
   "file_extension": ".py",
   "mimetype": "text/x-python",
   "name": "python",
   "nbconvert_exporter": "python",
   "pygments_lexer": "ipython3",
   "version": "3.8.10"
  }
 },
 "nbformat": 4,
 "nbformat_minor": 5
}
